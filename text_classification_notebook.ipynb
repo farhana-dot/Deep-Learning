{
 "cells": [
  {
   "cell_type": "markdown",
   "id": "ee9536c4",
   "metadata": {},
   "source": [
    "# Text Classification with PyTorch and TorchText"
   ]
  },
  {
   "cell_type": "code",
   "execution_count": null,
   "id": "5e715c1b",
   "metadata": {},
   "outputs": [],
   "source": [
    "!pip install torch torchtext"
   ]
  },
  {
   "cell_type": "code",
   "execution_count": null,
   "id": "2f87bdee",
   "metadata": {},
   "outputs": [],
   "source": [
    "import torch\n",
    "import torch.nn as nn\n",
    "import torch.optim as optim\n",
    "from torchtext.datasets import AG_NEWS\n",
    "from torchtext.data.utils import get_tokenizer\n",
    "from torchtext.vocab import build_vocab_from_iterator\n",
    "from torch.utils.data import DataLoader\n",
    "from torch.nn.utils.rnn import pad_sequence\n",
    "device = torch.device(\"cuda\" if torch.cuda.is_available() else \"cpu\")\n",
    "print(\"Using device:\", device)"
   ]
  },
  {
   "cell_type": "code",
   "execution_count": null,
   "id": "d88a41cf",
   "metadata": {},
   "outputs": [],
   "source": [
    "tokenizer = get_tokenizer(\"basic_english\")\n",
    "train_iter = AG_NEWS(split='train')\n",
    "\n",
    "def yield_tokens(data_iter):\n",
    "    for label, text in data_iter:\n",
    "        yield tokenizer(text)\n",
    "\n",
    "vocab = build_vocab_from_iterator(yield_tokens(train_iter), specials=[\"<unk>\"])\n",
    "vocab.set_default_index(vocab[\"<unk>\"])\n",
    "train_iter = AG_NEWS(split='train')\n",
    "text_pipeline = lambda x: vocab(tokenizer(x))\n",
    "label_pipeline = lambda x: int(x) - 1\n",
    "label_dict = {0: \"World\", 1: \"Sports\", 2: \"Business\", 3: \"Sci/Tech\"}"
   ]
  },
  {
   "cell_type": "code",
   "execution_count": null,
   "id": "4f22536d",
   "metadata": {},
   "outputs": [],
   "source": [
    "def collate_batch(batch):\n",
    "    text_list, label_list = [], []\n",
    "    for label, text in batch:\n",
    "        processed_text = torch.tensor(text_pipeline(text), dtype=torch.int64)\n",
    "        text_list.append(processed_text)\n",
    "        label_list.append(torch.tensor(label_pipeline(label), dtype=torch.int64))\n",
    "    text_list = pad_sequence(text_list, batch_first=True)\n",
    "    label_list = torch.stack(label_list)\n",
    "    return text_list.to(device), label_list.to(device)\n",
    "\n",
    "train_data = list(train_iter)\n",
    "train_loader = DataLoader(train_data, batch_size=32, shuffle=True, collate_fn=collate_batch)"
   ]
  },
  {
   "cell_type": "code",
   "execution_count": null,
   "id": "7494ba87",
   "metadata": {},
   "outputs": [],
   "source": [
    "class TextClassifier(nn.Module):\n",
    "    def __init__(self, vocab_size, embed_dim, num_class):\n",
    "        super(TextClassifier, self).__init__()\n",
    "        self.embedding = nn.Embedding(vocab_size, embed_dim)\n",
    "        self.fc = nn.Linear(embed_dim, num_class)\n",
    "\n",
    "    def forward(self, text):\n",
    "        embedded = self.embedding(text)\n",
    "        pooled = embedded.mean(dim=1)\n",
    "        return self.fc(pooled)\n",
    "\n",
    "vocab_size = len(vocab)\n",
    "embed_dim = 64\n",
    "num_class = len(label_dict)\n",
    "model = TextClassifier(vocab_size, embed_dim, num_class).to(device)\n",
    "\n",
    "criterion = nn.CrossEntropyLoss()\n",
    "optimizer = optim.Adam(model.parameters(), lr=0.001)"
   ]
  },
  {
   "cell_type": "code",
   "execution_count": null,
   "id": "0764634a",
   "metadata": {},
   "outputs": [],
   "source": [
    "def train_model(epochs=3):\n",
    "    model.train()\n",
    "    for epoch in range(epochs):\n",
    "        total_loss = 0\n",
    "        correct = 0\n",
    "        total = 0\n",
    "        for text_batch, label_batch in train_loader:\n",
    "            optimizer.zero_grad()\n",
    "            output = model(text_batch)\n",
    "            loss = criterion(output, label_batch)\n",
    "            loss.backward()\n",
    "            optimizer.step()\n",
    "            total_loss += loss.item()\n",
    "            correct += (output.argmax(1) == label_batch).sum().item()\n",
    "            total += label_batch.size(0)\n",
    "        acc = 100 * correct / total\n",
    "        print(f\"Epoch {epoch+1}, Loss: {total_loss:.4f}, Accuracy: {acc:.2f}%\")\n",
    "\n",
    "train_model()"
   ]
  },
  {
   "cell_type": "code",
   "execution_count": 1,
   "id": "2bb86266",
   "metadata": {},
   "outputs": [
    {
     "ename": "NameError",
     "evalue": "name 'model' is not defined",
     "output_type": "error",
     "traceback": [
      "\u001b[1;31m---------------------------------------------------------------------------\u001b[0m",
      "\u001b[1;31mNameError\u001b[0m                                 Traceback (most recent call last)",
      "Cell \u001b[1;32mIn[1], line 10\u001b[0m\n\u001b[0;32m      7\u001b[0m         \u001b[38;5;28;01mreturn\u001b[39;00m label_dict[predicted]\n\u001b[0;32m      9\u001b[0m sample \u001b[38;5;241m=\u001b[39m \u001b[38;5;124m\"\u001b[39m\u001b[38;5;124mNASA launches a new telescope into orbit.\u001b[39m\u001b[38;5;124m\"\u001b[39m\n\u001b[1;32m---> 10\u001b[0m \u001b[38;5;28mprint\u001b[39m(\u001b[38;5;124m\"\u001b[39m\u001b[38;5;124mPredicted category:\u001b[39m\u001b[38;5;124m\"\u001b[39m, predict(sample))\n",
      "Cell \u001b[1;32mIn[1], line 2\u001b[0m, in \u001b[0;36mpredict\u001b[1;34m(text)\u001b[0m\n\u001b[0;32m      1\u001b[0m \u001b[38;5;28;01mdef\u001b[39;00m \u001b[38;5;21mpredict\u001b[39m(text):\n\u001b[1;32m----> 2\u001b[0m     model\u001b[38;5;241m.\u001b[39meval()\n\u001b[0;32m      3\u001b[0m     \u001b[38;5;28;01mwith\u001b[39;00m torch\u001b[38;5;241m.\u001b[39mno_grad():\n\u001b[0;32m      4\u001b[0m         text_tensor \u001b[38;5;241m=\u001b[39m torch\u001b[38;5;241m.\u001b[39mtensor(text_pipeline(text))\u001b[38;5;241m.\u001b[39munsqueeze(\u001b[38;5;241m0\u001b[39m)\u001b[38;5;241m.\u001b[39mto(device)\n",
      "\u001b[1;31mNameError\u001b[0m: name 'model' is not defined"
     ]
    }
   ],
   "source": [
    "def predict(text):\n",
    "    model.eval()\n",
    "    with torch.no_grad():\n",
    "        text_tensor = torch.tensor(text_pipeline(text)).unsqueeze(0).to(device)\n",
    "        output = model(text_tensor)\n",
    "        predicted = output.argmax(1).item()\n",
    "        return label_dict[predicted]\n",
    "\n",
    "sample = \"NASA launches a new telescope into orbit.\"\n",
    "print(\"Predicted category:\", predict(sample))"
   ]
  },
  {
   "cell_type": "code",
   "execution_count": null,
   "id": "0cec557f",
   "metadata": {},
   "outputs": [],
   "source": []
  }
 ],
 "metadata": {
  "kernelspec": {
   "display_name": "Python 3 (ipykernel)",
   "language": "python",
   "name": "python3"
  },
  "language_info": {
   "codemirror_mode": {
    "name": "ipython",
    "version": 3
   },
   "file_extension": ".py",
   "mimetype": "text/x-python",
   "name": "python",
   "nbconvert_exporter": "python",
   "pygments_lexer": "ipython3",
   "version": "3.11.5"
  }
 },
 "nbformat": 4,
 "nbformat_minor": 5
}
