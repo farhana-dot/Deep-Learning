{
 "cells": [
  {
   "cell_type": "markdown",
   "metadata": {},
   "source": [
    "# **Text Classification Using Machine Learning **"
   ]
  },
  {
   "cell_type": "markdown",
   "metadata": {},
   "source": [
    "# Importing Libraries"
   ]
  },
  {
   "cell_type": "markdown",
   "metadata": {},
   "source": []
  },
  {
   "cell_type": "code",
   "execution_count": 2,
   "metadata": {
    "_cell_guid": "b1076dfc-b9ad-4769-8c92-a6c4dae69d19",
    "_uuid": "8f2839f25d086af736a60e9eeb907d3b93b6e0e5",
    "execution": {
     "iopub.execute_input": "2023-06-29T09:20:21.738227Z",
     "iopub.status.busy": "2023-06-29T09:20:21.737701Z",
     "iopub.status.idle": "2023-06-29T09:20:21.747084Z",
     "shell.execute_reply": "2023-06-29T09:20:21.744817Z",
     "shell.execute_reply.started": "2023-06-29T09:20:21.738189Z"
    }
   },
   "outputs": [
    {
     "name": "stderr",
     "output_type": "stream",
     "text": [
      "\n",
      "A module that was compiled using NumPy 1.x cannot be run in\n",
      "NumPy 2.3.1 as it may crash. To support both 1.x and 2.x\n",
      "versions of NumPy, modules must be compiled with NumPy 2.0.\n",
      "Some module may need to rebuild instead e.g. with 'pybind11>=2.12'.\n",
      "\n",
      "If you are a user of the module, the easiest solution will be to\n",
      "downgrade to 'numpy<2' or try to upgrade the affected module.\n",
      "We expect that some modules will need time to support NumPy 2.\n",
      "\n",
      "Traceback (most recent call last):  File \"<frozen runpy>\", line 198, in _run_module_as_main\n",
      "  File \"<frozen runpy>\", line 88, in _run_code\n",
      "  File \"C:\\Users\\user\\anaconda3\\Anaconda\\Lib\\site-packages\\ipykernel_launcher.py\", line 17, in <module>\n",
      "    app.launch_new_instance()\n",
      "  File \"C:\\Users\\user\\anaconda3\\Anaconda\\Lib\\site-packages\\traitlets\\config\\application.py\", line 992, in launch_instance\n",
      "    app.start()\n",
      "  File \"C:\\Users\\user\\anaconda3\\Anaconda\\Lib\\site-packages\\ipykernel\\kernelapp.py\", line 736, in start\n",
      "    self.io_loop.start()\n",
      "  File \"C:\\Users\\user\\anaconda3\\Anaconda\\Lib\\site-packages\\tornado\\platform\\asyncio.py\", line 195, in start\n",
      "    self.asyncio_loop.run_forever()\n",
      "  File \"C:\\Users\\user\\anaconda3\\Anaconda\\Lib\\asyncio\\base_events.py\", line 607, in run_forever\n",
      "    self._run_once()\n",
      "  File \"C:\\Users\\user\\anaconda3\\Anaconda\\Lib\\asyncio\\base_events.py\", line 1922, in _run_once\n",
      "    handle._run()\n",
      "  File \"C:\\Users\\user\\anaconda3\\Anaconda\\Lib\\asyncio\\events.py\", line 80, in _run\n",
      "    self._context.run(self._callback, *self._args)\n",
      "  File \"C:\\Users\\user\\anaconda3\\Anaconda\\Lib\\site-packages\\ipykernel\\kernelbase.py\", line 516, in dispatch_queue\n",
      "    await self.process_one()\n",
      "  File \"C:\\Users\\user\\anaconda3\\Anaconda\\Lib\\site-packages\\ipykernel\\kernelbase.py\", line 505, in process_one\n",
      "    await dispatch(*args)\n",
      "  File \"C:\\Users\\user\\anaconda3\\Anaconda\\Lib\\site-packages\\ipykernel\\kernelbase.py\", line 412, in dispatch_shell\n",
      "    await result\n",
      "  File \"C:\\Users\\user\\anaconda3\\Anaconda\\Lib\\site-packages\\ipykernel\\kernelbase.py\", line 740, in execute_request\n",
      "    reply_content = await reply_content\n",
      "  File \"C:\\Users\\user\\anaconda3\\Anaconda\\Lib\\site-packages\\ipykernel\\ipkernel.py\", line 422, in do_execute\n",
      "    res = shell.run_cell(\n",
      "  File \"C:\\Users\\user\\anaconda3\\Anaconda\\Lib\\site-packages\\ipykernel\\zmqshell.py\", line 546, in run_cell\n",
      "    return super().run_cell(*args, **kwargs)\n",
      "  File \"C:\\Users\\user\\anaconda3\\Anaconda\\Lib\\site-packages\\IPython\\core\\interactiveshell.py\", line 3024, in run_cell\n",
      "    result = self._run_cell(\n",
      "  File \"C:\\Users\\user\\anaconda3\\Anaconda\\Lib\\site-packages\\IPython\\core\\interactiveshell.py\", line 3079, in _run_cell\n",
      "    result = runner(coro)\n",
      "  File \"C:\\Users\\user\\anaconda3\\Anaconda\\Lib\\site-packages\\IPython\\core\\async_helpers.py\", line 129, in _pseudo_sync_runner\n",
      "    coro.send(None)\n",
      "  File \"C:\\Users\\user\\anaconda3\\Anaconda\\Lib\\site-packages\\IPython\\core\\interactiveshell.py\", line 3284, in run_cell_async\n",
      "    has_raised = await self.run_ast_nodes(code_ast.body, cell_name,\n",
      "  File \"C:\\Users\\user\\anaconda3\\Anaconda\\Lib\\site-packages\\IPython\\core\\interactiveshell.py\", line 3466, in run_ast_nodes\n",
      "    if await self.run_code(code, result, async_=asy):\n",
      "  File \"C:\\Users\\user\\anaconda3\\Anaconda\\Lib\\site-packages\\IPython\\core\\interactiveshell.py\", line 3526, in run_code\n",
      "    exec(code_obj, self.user_global_ns, self.user_ns)\n",
      "  File \"C:\\Users\\user\\AppData\\Local\\Temp\\ipykernel_12724\\1796081308.py\", line 4, in <module>\n",
      "    import matplotlib.pyplot as plt  # Matplotlib is a plotting library for creating static, animated, and interactive visualisations in Python.\n",
      "  File \"C:\\Users\\user\\anaconda3\\Anaconda\\Lib\\site-packages\\matplotlib\\__init__.py\", line 129, in <module>\n",
      "    from . import _api, _version, cbook, _docstring, rcsetup\n",
      "  File \"C:\\Users\\user\\anaconda3\\Anaconda\\Lib\\site-packages\\matplotlib\\rcsetup.py\", line 27, in <module>\n",
      "    from matplotlib.colors import Colormap, is_color_like\n",
      "  File \"C:\\Users\\user\\anaconda3\\Anaconda\\Lib\\site-packages\\matplotlib\\colors.py\", line 56, in <module>\n",
      "    from matplotlib import _api, _cm, cbook, scale\n",
      "  File \"C:\\Users\\user\\anaconda3\\Anaconda\\Lib\\site-packages\\matplotlib\\scale.py\", line 22, in <module>\n",
      "    from matplotlib.ticker import (\n",
      "  File \"C:\\Users\\user\\anaconda3\\Anaconda\\Lib\\site-packages\\matplotlib\\ticker.py\", line 138, in <module>\n",
      "    from matplotlib import transforms as mtransforms\n",
      "  File \"C:\\Users\\user\\anaconda3\\Anaconda\\Lib\\site-packages\\matplotlib\\transforms.py\", line 49, in <module>\n",
      "    from matplotlib._path import (\n"
     ]
    },
    {
     "ename": "AttributeError",
     "evalue": "_ARRAY_API not found",
     "output_type": "error",
     "traceback": [
      "\u001b[1;31m---------------------------------------------------------------------------\u001b[0m",
      "\u001b[1;31mAttributeError\u001b[0m                            Traceback (most recent call last)",
      "\u001b[1;31mAttributeError\u001b[0m: _ARRAY_API not found"
     ]
    },
    {
     "ename": "ImportError",
     "evalue": "numpy.core.multiarray failed to import",
     "output_type": "error",
     "traceback": [
      "\u001b[1;31m---------------------------------------------------------------------------\u001b[0m",
      "\u001b[1;31mImportError\u001b[0m                               Traceback (most recent call last)",
      "Cell \u001b[1;32mIn[2], line 4\u001b[0m\n\u001b[0;32m      2\u001b[0m \u001b[38;5;28;01mimport\u001b[39;00m \u001b[38;5;21;01mnumpy\u001b[39;00m \u001b[38;5;28;01mas\u001b[39;00m \u001b[38;5;21;01mnp\u001b[39;00m  \u001b[38;5;66;03m# NumPy is a Python library used for working with arrays.\u001b[39;00m\n\u001b[0;32m      3\u001b[0m \u001b[38;5;28;01mimport\u001b[39;00m \u001b[38;5;21;01mpandas\u001b[39;00m \u001b[38;5;28;01mas\u001b[39;00m \u001b[38;5;21;01mpd\u001b[39;00m  \u001b[38;5;66;03m# Pandas is used for data manipulation and analysis.\u001b[39;00m\n\u001b[1;32m----> 4\u001b[0m \u001b[38;5;28;01mimport\u001b[39;00m \u001b[38;5;21;01mmatplotlib\u001b[39;00m\u001b[38;5;21;01m.\u001b[39;00m\u001b[38;5;21;01mpyplot\u001b[39;00m \u001b[38;5;28;01mas\u001b[39;00m \u001b[38;5;21;01mplt\u001b[39;00m  \u001b[38;5;66;03m# Matplotlib is a plotting library for creating static, animated, and interactive visualisations in Python.\u001b[39;00m\n\u001b[0;32m      5\u001b[0m \u001b[38;5;28;01mimport\u001b[39;00m \u001b[38;5;21;01mseaborn\u001b[39;00m \u001b[38;5;28;01mas\u001b[39;00m \u001b[38;5;21;01msns\u001b[39;00m  \u001b[38;5;66;03m# Seaborn is a Python data visualisation library based on Matplotlib. It provides a high-level interface for drawing attractive and informative statistical graphics.\u001b[39;00m\n\u001b[0;32m      6\u001b[0m \u001b[38;5;28;01mimport\u001b[39;00m \u001b[38;5;21;01mwarnings\u001b[39;00m  \u001b[38;5;66;03m# This is a module for issuing warning messages as part of your program.\u001b[39;00m\n",
      "File \u001b[1;32m~\\anaconda3\\Anaconda\\Lib\\site-packages\\matplotlib\\__init__.py:129\u001b[0m\n\u001b[0;32m    125\u001b[0m \u001b[38;5;28;01mfrom\u001b[39;00m \u001b[38;5;21;01mpackaging\u001b[39;00m\u001b[38;5;21;01m.\u001b[39;00m\u001b[38;5;21;01mversion\u001b[39;00m \u001b[38;5;28;01mimport\u001b[39;00m parse \u001b[38;5;28;01mas\u001b[39;00m parse_version\n\u001b[0;32m    127\u001b[0m \u001b[38;5;66;03m# cbook must import matplotlib only within function\u001b[39;00m\n\u001b[0;32m    128\u001b[0m \u001b[38;5;66;03m# definitions, so it is safe to import from it here.\u001b[39;00m\n\u001b[1;32m--> 129\u001b[0m \u001b[38;5;28;01mfrom\u001b[39;00m \u001b[38;5;21;01m.\u001b[39;00m \u001b[38;5;28;01mimport\u001b[39;00m _api, _version, cbook, _docstring, rcsetup\n\u001b[0;32m    130\u001b[0m \u001b[38;5;28;01mfrom\u001b[39;00m \u001b[38;5;21;01mmatplotlib\u001b[39;00m\u001b[38;5;21;01m.\u001b[39;00m\u001b[38;5;21;01mcbook\u001b[39;00m \u001b[38;5;28;01mimport\u001b[39;00m sanitize_sequence\n\u001b[0;32m    131\u001b[0m \u001b[38;5;28;01mfrom\u001b[39;00m \u001b[38;5;21;01mmatplotlib\u001b[39;00m\u001b[38;5;21;01m.\u001b[39;00m\u001b[38;5;21;01m_api\u001b[39;00m \u001b[38;5;28;01mimport\u001b[39;00m MatplotlibDeprecationWarning\n",
      "File \u001b[1;32m~\\anaconda3\\Anaconda\\Lib\\site-packages\\matplotlib\\rcsetup.py:27\u001b[0m\n\u001b[0;32m     25\u001b[0m \u001b[38;5;28;01mfrom\u001b[39;00m \u001b[38;5;21;01mmatplotlib\u001b[39;00m \u001b[38;5;28;01mimport\u001b[39;00m _api, cbook\n\u001b[0;32m     26\u001b[0m \u001b[38;5;28;01mfrom\u001b[39;00m \u001b[38;5;21;01mmatplotlib\u001b[39;00m\u001b[38;5;21;01m.\u001b[39;00m\u001b[38;5;21;01mcbook\u001b[39;00m \u001b[38;5;28;01mimport\u001b[39;00m ls_mapper\n\u001b[1;32m---> 27\u001b[0m \u001b[38;5;28;01mfrom\u001b[39;00m \u001b[38;5;21;01mmatplotlib\u001b[39;00m\u001b[38;5;21;01m.\u001b[39;00m\u001b[38;5;21;01mcolors\u001b[39;00m \u001b[38;5;28;01mimport\u001b[39;00m Colormap, is_color_like\n\u001b[0;32m     28\u001b[0m \u001b[38;5;28;01mfrom\u001b[39;00m \u001b[38;5;21;01mmatplotlib\u001b[39;00m\u001b[38;5;21;01m.\u001b[39;00m\u001b[38;5;21;01m_fontconfig_pattern\u001b[39;00m \u001b[38;5;28;01mimport\u001b[39;00m parse_fontconfig_pattern\n\u001b[0;32m     29\u001b[0m \u001b[38;5;28;01mfrom\u001b[39;00m \u001b[38;5;21;01mmatplotlib\u001b[39;00m\u001b[38;5;21;01m.\u001b[39;00m\u001b[38;5;21;01m_enums\u001b[39;00m \u001b[38;5;28;01mimport\u001b[39;00m JoinStyle, CapStyle\n",
      "File \u001b[1;32m~\\anaconda3\\Anaconda\\Lib\\site-packages\\matplotlib\\colors.py:56\u001b[0m\n\u001b[0;32m     54\u001b[0m \u001b[38;5;28;01mimport\u001b[39;00m \u001b[38;5;21;01mmatplotlib\u001b[39;00m \u001b[38;5;28;01mas\u001b[39;00m \u001b[38;5;21;01mmpl\u001b[39;00m\n\u001b[0;32m     55\u001b[0m \u001b[38;5;28;01mimport\u001b[39;00m \u001b[38;5;21;01mnumpy\u001b[39;00m \u001b[38;5;28;01mas\u001b[39;00m \u001b[38;5;21;01mnp\u001b[39;00m\n\u001b[1;32m---> 56\u001b[0m \u001b[38;5;28;01mfrom\u001b[39;00m \u001b[38;5;21;01mmatplotlib\u001b[39;00m \u001b[38;5;28;01mimport\u001b[39;00m _api, _cm, cbook, scale\n\u001b[0;32m     57\u001b[0m \u001b[38;5;28;01mfrom\u001b[39;00m \u001b[38;5;21;01m.\u001b[39;00m\u001b[38;5;21;01m_color_data\u001b[39;00m \u001b[38;5;28;01mimport\u001b[39;00m BASE_COLORS, TABLEAU_COLORS, CSS4_COLORS, XKCD_COLORS\n\u001b[0;32m     60\u001b[0m \u001b[38;5;28;01mclass\u001b[39;00m \u001b[38;5;21;01m_ColorMapping\u001b[39;00m(\u001b[38;5;28mdict\u001b[39m):\n",
      "File \u001b[1;32m~\\anaconda3\\Anaconda\\Lib\\site-packages\\matplotlib\\scale.py:22\u001b[0m\n\u001b[0;32m     20\u001b[0m \u001b[38;5;28;01mimport\u001b[39;00m \u001b[38;5;21;01mmatplotlib\u001b[39;00m \u001b[38;5;28;01mas\u001b[39;00m \u001b[38;5;21;01mmpl\u001b[39;00m\n\u001b[0;32m     21\u001b[0m \u001b[38;5;28;01mfrom\u001b[39;00m \u001b[38;5;21;01mmatplotlib\u001b[39;00m \u001b[38;5;28;01mimport\u001b[39;00m _api, _docstring\n\u001b[1;32m---> 22\u001b[0m \u001b[38;5;28;01mfrom\u001b[39;00m \u001b[38;5;21;01mmatplotlib\u001b[39;00m\u001b[38;5;21;01m.\u001b[39;00m\u001b[38;5;21;01mticker\u001b[39;00m \u001b[38;5;28;01mimport\u001b[39;00m (\n\u001b[0;32m     23\u001b[0m     NullFormatter, ScalarFormatter, LogFormatterSciNotation, LogitFormatter,\n\u001b[0;32m     24\u001b[0m     NullLocator, LogLocator, AutoLocator, AutoMinorLocator,\n\u001b[0;32m     25\u001b[0m     SymmetricalLogLocator, AsinhLocator, LogitLocator)\n\u001b[0;32m     26\u001b[0m \u001b[38;5;28;01mfrom\u001b[39;00m \u001b[38;5;21;01mmatplotlib\u001b[39;00m\u001b[38;5;21;01m.\u001b[39;00m\u001b[38;5;21;01mtransforms\u001b[39;00m \u001b[38;5;28;01mimport\u001b[39;00m Transform, IdentityTransform\n\u001b[0;32m     29\u001b[0m \u001b[38;5;28;01mclass\u001b[39;00m \u001b[38;5;21;01mScaleBase\u001b[39;00m:\n",
      "File \u001b[1;32m~\\anaconda3\\Anaconda\\Lib\\site-packages\\matplotlib\\ticker.py:138\u001b[0m\n\u001b[0;32m    136\u001b[0m \u001b[38;5;28;01mimport\u001b[39;00m \u001b[38;5;21;01mmatplotlib\u001b[39;00m \u001b[38;5;28;01mas\u001b[39;00m \u001b[38;5;21;01mmpl\u001b[39;00m\n\u001b[0;32m    137\u001b[0m \u001b[38;5;28;01mfrom\u001b[39;00m \u001b[38;5;21;01mmatplotlib\u001b[39;00m \u001b[38;5;28;01mimport\u001b[39;00m _api, cbook\n\u001b[1;32m--> 138\u001b[0m \u001b[38;5;28;01mfrom\u001b[39;00m \u001b[38;5;21;01mmatplotlib\u001b[39;00m \u001b[38;5;28;01mimport\u001b[39;00m transforms \u001b[38;5;28;01mas\u001b[39;00m mtransforms\n\u001b[0;32m    140\u001b[0m _log \u001b[38;5;241m=\u001b[39m logging\u001b[38;5;241m.\u001b[39mgetLogger(\u001b[38;5;18m__name__\u001b[39m)\n\u001b[0;32m    142\u001b[0m __all__ \u001b[38;5;241m=\u001b[39m (\u001b[38;5;124m'\u001b[39m\u001b[38;5;124mTickHelper\u001b[39m\u001b[38;5;124m'\u001b[39m, \u001b[38;5;124m'\u001b[39m\u001b[38;5;124mFormatter\u001b[39m\u001b[38;5;124m'\u001b[39m, \u001b[38;5;124m'\u001b[39m\u001b[38;5;124mFixedFormatter\u001b[39m\u001b[38;5;124m'\u001b[39m,\n\u001b[0;32m    143\u001b[0m            \u001b[38;5;124m'\u001b[39m\u001b[38;5;124mNullFormatter\u001b[39m\u001b[38;5;124m'\u001b[39m, \u001b[38;5;124m'\u001b[39m\u001b[38;5;124mFuncFormatter\u001b[39m\u001b[38;5;124m'\u001b[39m, \u001b[38;5;124m'\u001b[39m\u001b[38;5;124mFormatStrFormatter\u001b[39m\u001b[38;5;124m'\u001b[39m,\n\u001b[0;32m    144\u001b[0m            \u001b[38;5;124m'\u001b[39m\u001b[38;5;124mStrMethodFormatter\u001b[39m\u001b[38;5;124m'\u001b[39m, \u001b[38;5;124m'\u001b[39m\u001b[38;5;124mScalarFormatter\u001b[39m\u001b[38;5;124m'\u001b[39m, \u001b[38;5;124m'\u001b[39m\u001b[38;5;124mLogFormatter\u001b[39m\u001b[38;5;124m'\u001b[39m,\n\u001b[1;32m   (...)\u001b[0m\n\u001b[0;32m    150\u001b[0m            \u001b[38;5;124m'\u001b[39m\u001b[38;5;124mMultipleLocator\u001b[39m\u001b[38;5;124m'\u001b[39m, \u001b[38;5;124m'\u001b[39m\u001b[38;5;124mMaxNLocator\u001b[39m\u001b[38;5;124m'\u001b[39m, \u001b[38;5;124m'\u001b[39m\u001b[38;5;124mAutoMinorLocator\u001b[39m\u001b[38;5;124m'\u001b[39m,\n\u001b[0;32m    151\u001b[0m            \u001b[38;5;124m'\u001b[39m\u001b[38;5;124mSymmetricalLogLocator\u001b[39m\u001b[38;5;124m'\u001b[39m, \u001b[38;5;124m'\u001b[39m\u001b[38;5;124mAsinhLocator\u001b[39m\u001b[38;5;124m'\u001b[39m, \u001b[38;5;124m'\u001b[39m\u001b[38;5;124mLogitLocator\u001b[39m\u001b[38;5;124m'\u001b[39m)\n",
      "File \u001b[1;32m~\\anaconda3\\Anaconda\\Lib\\site-packages\\matplotlib\\transforms.py:49\u001b[0m\n\u001b[0;32m     46\u001b[0m \u001b[38;5;28;01mfrom\u001b[39;00m \u001b[38;5;21;01mnumpy\u001b[39;00m\u001b[38;5;21;01m.\u001b[39;00m\u001b[38;5;21;01mlinalg\u001b[39;00m \u001b[38;5;28;01mimport\u001b[39;00m inv\n\u001b[0;32m     48\u001b[0m \u001b[38;5;28;01mfrom\u001b[39;00m \u001b[38;5;21;01mmatplotlib\u001b[39;00m \u001b[38;5;28;01mimport\u001b[39;00m _api\n\u001b[1;32m---> 49\u001b[0m \u001b[38;5;28;01mfrom\u001b[39;00m \u001b[38;5;21;01mmatplotlib\u001b[39;00m\u001b[38;5;21;01m.\u001b[39;00m\u001b[38;5;21;01m_path\u001b[39;00m \u001b[38;5;28;01mimport\u001b[39;00m (\n\u001b[0;32m     50\u001b[0m     affine_transform, count_bboxes_overlapping_bbox, update_path_extents)\n\u001b[0;32m     51\u001b[0m \u001b[38;5;28;01mfrom\u001b[39;00m \u001b[38;5;21;01m.\u001b[39;00m\u001b[38;5;21;01mpath\u001b[39;00m \u001b[38;5;28;01mimport\u001b[39;00m Path\n\u001b[0;32m     53\u001b[0m DEBUG \u001b[38;5;241m=\u001b[39m \u001b[38;5;28;01mFalse\u001b[39;00m\n",
      "\u001b[1;31mImportError\u001b[0m: numpy.core.multiarray failed to import"
     ]
    }
   ],
   "source": [
    "# Importing the necessary libraries for data manipulation and visualisation\n",
    "import numpy as np  # NumPy is a Python library used for working with arrays.\n",
    "import pandas as pd  # Pandas is used for data manipulation and analysis.\n",
    "import matplotlib.pyplot as plt  # Matplotlib is a plotting library for creating static, animated, and interactive visualisations in Python.\n",
    "import seaborn as sns  # Seaborn is a Python data visualisation library based on Matplotlib. It provides a high-level interface for drawing attractive and informative statistical graphics.\n",
    "import warnings  # This is a module for issuing warning messages as part of your program.\n",
    "\n",
    "warnings.warn('Ignore')\n",
    "# plt.style.use('dark_background'\n",
    "sns.set_style(\"dark\")\n",
    "print('Done')"
   ]
  },
  {
   "cell_type": "code",
   "execution_count": null,
   "metadata": {},
   "outputs": [],
   "source": [
    "!pip install --upgrade numpy pandas\n"
   ]
  },
  {
   "cell_type": "markdown",
   "metadata": {},
   "source": [
    "# Loading Dataset"
   ]
  },
  {
   "cell_type": "code",
   "execution_count": null,
   "metadata": {},
   "outputs": [],
   "source": []
  },
  {
   "cell_type": "code",
   "execution_count": null,
   "metadata": {
    "execution": {
     "iopub.execute_input": "2023-06-29T09:20:21.749905Z",
     "iopub.status.busy": "2023-06-29T09:20:21.749328Z",
     "iopub.status.idle": "2023-06-29T09:20:21.797562Z",
     "shell.execute_reply": "2023-06-29T09:20:21.796506Z",
     "shell.execute_reply.started": "2023-06-29T09:20:21.749864Z"
    }
   },
   "outputs": [],
   "source": [
    "#loading dataset using pandas library\n",
    "df = pd.read_csv('Dataset.csv', encoding='latin-1')"
   ]
  },
  {
   "cell_type": "code",
   "execution_count": 3,
   "metadata": {
    "execution": {
     "iopub.execute_input": "2023-06-29T09:20:21.800254Z",
     "iopub.status.busy": "2023-06-29T09:20:21.799612Z",
     "iopub.status.idle": "2023-06-29T09:20:21.814764Z",
     "shell.execute_reply": "2023-06-29T09:20:21.813847Z",
     "shell.execute_reply.started": "2023-06-29T09:20:21.800208Z"
    }
   },
   "outputs": [
    {
     "ename": "NameError",
     "evalue": "name 'df' is not defined",
     "output_type": "error",
     "traceback": [
      "\u001b[1;31m---------------------------------------------------------------------------\u001b[0m",
      "\u001b[1;31mNameError\u001b[0m                                 Traceback (most recent call last)",
      "Cell \u001b[1;32mIn[3], line 2\u001b[0m\n\u001b[0;32m      1\u001b[0m \u001b[38;5;66;03m#displaying first 10 records of the dataset \u001b[39;00m\n\u001b[1;32m----> 2\u001b[0m df\u001b[38;5;241m.\u001b[39mtail(\u001b[38;5;241m20\u001b[39m)\n",
      "\u001b[1;31mNameError\u001b[0m: name 'df' is not defined"
     ]
    }
   ],
   "source": [
    "#displaying first 10 records of the dataset \n",
    "df.tail(20)"
   ]
  },
  {
   "cell_type": "code",
   "execution_count": null,
   "metadata": {
    "execution": {
     "iopub.execute_input": "2023-06-29T09:20:21.817002Z",
     "iopub.status.busy": "2023-06-29T09:20:21.815900Z",
     "iopub.status.idle": "2023-06-29T09:20:21.824138Z",
     "shell.execute_reply": "2023-06-29T09:20:21.823306Z",
     "shell.execute_reply.started": "2023-06-29T09:20:21.816968Z"
    }
   },
   "outputs": [],
   "source": [
    "#Displaying the shape of the datset, means how many columns and rows we have in dataset\n",
    "df.shape"
   ]
  },
  {
   "cell_type": "code",
   "execution_count": null,
   "metadata": {
    "execution": {
     "iopub.execute_input": "2023-06-29T09:20:21.827069Z",
     "iopub.status.busy": "2023-06-29T09:20:21.826344Z",
     "iopub.status.idle": "2023-06-29T09:20:21.848841Z",
     "shell.execute_reply": "2023-06-29T09:20:21.847767Z",
     "shell.execute_reply.started": "2023-06-29T09:20:21.827040Z"
    }
   },
   "outputs": [],
   "source": [
    "#shows us the info about the dataset about the datatypes \n",
    "df.info()"
   ]
  },
  {
   "cell_type": "markdown",
   "metadata": {},
   "source": [
    "# Data Preprocessing"
   ]
  },
  {
   "cell_type": "markdown",
   "metadata": {},
   "source": [
    "## Data Cleaning"
   ]
  },
  {
   "cell_type": "code",
   "execution_count": null,
   "metadata": {
    "execution": {
     "iopub.execute_input": "2023-06-29T09:20:21.850705Z",
     "iopub.status.busy": "2023-06-29T09:20:21.850086Z",
     "iopub.status.idle": "2023-06-29T09:20:21.868313Z",
     "shell.execute_reply": "2023-06-29T09:20:21.867265Z",
     "shell.execute_reply.started": "2023-06-29T09:20:21.850671Z"
    }
   },
   "outputs": [],
   "source": [
    "df.drop(columns=['Unnamed: 2','Unnamed: 3','Unnamed: 4'],inplace=True,axis=1)"
   ]
  },
  {
   "cell_type": "code",
   "execution_count": null,
   "metadata": {
    "scrolled": true
   },
   "outputs": [],
   "source": [
    "df.head(10)"
   ]
  },
  {
   "cell_type": "code",
   "execution_count": null,
   "metadata": {
    "execution": {
     "iopub.execute_input": "2023-06-29T09:20:21.870512Z",
     "iopub.status.busy": "2023-06-29T09:20:21.869868Z",
     "iopub.status.idle": "2023-06-29T09:20:21.882627Z",
     "shell.execute_reply": "2023-06-29T09:20:21.881543Z",
     "shell.execute_reply.started": "2023-06-29T09:20:21.870475Z"
    }
   },
   "outputs": [],
   "source": [
    "df.rename(columns={'v1':'target', 'v2':'text'}, inplace=True)"
   ]
  },
  {
   "cell_type": "code",
   "execution_count": null,
   "metadata": {
    "execution": {
     "iopub.execute_input": "2023-06-29T09:20:21.884851Z",
     "iopub.status.busy": "2023-06-29T09:20:21.884196Z",
     "iopub.status.idle": "2023-06-29T09:20:21.897614Z",
     "shell.execute_reply": "2023-06-29T09:20:21.896639Z",
     "shell.execute_reply.started": "2023-06-29T09:20:21.884815Z"
    }
   },
   "outputs": [],
   "source": [
    "df.columns"
   ]
  },
  {
   "cell_type": "code",
   "execution_count": null,
   "metadata": {},
   "outputs": [],
   "source": [
    "df.head(5)"
   ]
  },
  {
   "cell_type": "code",
   "execution_count": null,
   "metadata": {
    "execution": {
     "iopub.execute_input": "2023-06-29T09:20:21.899764Z",
     "iopub.status.busy": "2023-06-29T09:20:21.899126Z",
     "iopub.status.idle": "2023-06-29T09:20:21.913568Z",
     "shell.execute_reply": "2023-06-29T09:20:21.912489Z",
     "shell.execute_reply.started": "2023-06-29T09:20:21.899728Z"
    }
   },
   "outputs": [],
   "source": [
    "from sklearn.preprocessing import LabelEncoder\n",
    "encoder = LabelEncoder()\n",
    "df['target']=encoder.fit_transform(df['target'])"
   ]
  },
  {
   "cell_type": "code",
   "execution_count": null,
   "metadata": {
    "execution": {
     "iopub.execute_input": "2023-06-29T09:20:21.915901Z",
     "iopub.status.busy": "2023-06-29T09:20:21.915497Z",
     "iopub.status.idle": "2023-06-29T09:20:21.933866Z",
     "shell.execute_reply": "2023-06-29T09:20:21.932845Z",
     "shell.execute_reply.started": "2023-06-29T09:20:21.915868Z"
    }
   },
   "outputs": [],
   "source": [
    "df.isnull().sum()"
   ]
  },
  {
   "cell_type": "code",
   "execution_count": null,
   "metadata": {
    "execution": {
     "iopub.execute_input": "2023-06-29T09:20:21.940200Z",
     "iopub.status.busy": "2023-06-29T09:20:21.938943Z",
     "iopub.status.idle": "2023-06-29T09:20:21.952995Z",
     "shell.execute_reply": "2023-06-29T09:20:21.951988Z",
     "shell.execute_reply.started": "2023-06-29T09:20:21.940150Z"
    }
   },
   "outputs": [],
   "source": [
    "df.duplicated().sum"
   ]
  },
  {
   "cell_type": "code",
   "execution_count": null,
   "metadata": {
    "execution": {
     "iopub.execute_input": "2023-06-29T09:20:21.955683Z",
     "iopub.status.busy": "2023-06-29T09:20:21.954366Z",
     "iopub.status.idle": "2023-06-29T09:20:21.966623Z",
     "shell.execute_reply": "2023-06-29T09:20:21.965199Z",
     "shell.execute_reply.started": "2023-06-29T09:20:21.955637Z"
    }
   },
   "outputs": [],
   "source": [
    "df=df.drop_duplicates(keep='first') # deletes the first occurrence."
   ]
  },
  {
   "cell_type": "code",
   "execution_count": null,
   "metadata": {
    "execution": {
     "iopub.execute_input": "2023-06-29T09:20:21.968652Z",
     "iopub.status.busy": "2023-06-29T09:20:21.968190Z",
     "iopub.status.idle": "2023-06-29T09:20:21.978768Z",
     "shell.execute_reply": "2023-06-29T09:20:21.977283Z",
     "shell.execute_reply.started": "2023-06-29T09:20:21.968613Z"
    }
   },
   "outputs": [],
   "source": [
    "df.shape"
   ]
  },
  {
   "cell_type": "markdown",
   "metadata": {},
   "source": [
    "# Exploratory Data Analysis"
   ]
  },
  {
   "cell_type": "code",
   "execution_count": null,
   "metadata": {
    "execution": {
     "iopub.execute_input": "2023-06-29T09:20:21.980934Z",
     "iopub.status.busy": "2023-06-29T09:20:21.980511Z",
     "iopub.status.idle": "2023-06-29T09:20:21.995026Z",
     "shell.execute_reply": "2023-06-29T09:20:21.993978Z",
     "shell.execute_reply.started": "2023-06-29T09:20:21.980900Z"
    }
   },
   "outputs": [],
   "source": [
    "df['target'].value_counts()"
   ]
  },
  {
   "cell_type": "code",
   "execution_count": null,
   "metadata": {
    "execution": {
     "iopub.execute_input": "2023-06-29T09:20:21.997812Z",
     "iopub.status.busy": "2023-06-29T09:20:21.996812Z",
     "iopub.status.idle": "2023-06-29T09:20:22.139941Z",
     "shell.execute_reply": "2023-06-29T09:20:22.138816Z",
     "shell.execute_reply.started": "2023-06-29T09:20:21.997768Z"
    }
   },
   "outputs": [],
   "source": [
    "plt.pie(df['target'].value_counts(), labels=['ham','spam'], autopct='%0.2f',colors = ['#ff9999','#66b3ff'])\n",
    "plt.show()"
   ]
  },
  {
   "cell_type": "markdown",
   "metadata": {},
   "source": [
    "#### Data is imbalanced"
   ]
  },
  {
   "cell_type": "code",
   "execution_count": null,
   "metadata": {
    "execution": {
     "iopub.execute_input": "2023-06-29T09:20:22.143379Z",
     "iopub.status.busy": "2023-06-29T09:20:22.142308Z",
     "iopub.status.idle": "2023-06-29T09:20:22.149155Z",
     "shell.execute_reply": "2023-06-29T09:20:22.147997Z",
     "shell.execute_reply.started": "2023-06-29T09:20:22.143329Z"
    }
   },
   "outputs": [],
   "source": [
    "# Natural Language Toolkit\n",
    "import nltk"
   ]
  },
  {
   "cell_type": "code",
   "execution_count": null,
   "metadata": {
    "execution": {
     "iopub.execute_input": "2023-06-29T09:20:22.151649Z",
     "iopub.status.busy": "2023-06-29T09:20:22.150962Z",
     "iopub.status.idle": "2023-06-29T09:20:22.168383Z",
     "shell.execute_reply": "2023-06-29T09:20:22.166992Z",
     "shell.execute_reply.started": "2023-06-29T09:20:22.151606Z"
    }
   },
   "outputs": [],
   "source": [
    "nltk.download('punkt')"
   ]
  },
  {
   "cell_type": "markdown",
   "metadata": {},
   "source": [
    "#### This tokenizer divides a text into a list of sentences by using anunsupervised algorithm to build a model for abbreviation words, collocations, and words that start sentences. It must be trained on a large collection of plaintext in the target language before it can be used."
   ]
  },
  {
   "cell_type": "markdown",
   "metadata": {},
   "source": [
    "## Fetch number of characters"
   ]
  },
  {
   "cell_type": "code",
   "execution_count": null,
   "metadata": {
    "execution": {
     "iopub.execute_input": "2023-06-29T09:20:22.171536Z",
     "iopub.status.busy": "2023-06-29T09:20:22.170668Z",
     "iopub.status.idle": "2023-06-29T09:20:22.186791Z",
     "shell.execute_reply": "2023-06-29T09:20:22.185179Z",
     "shell.execute_reply.started": "2023-06-29T09:20:22.171496Z"
    }
   },
   "outputs": [],
   "source": [
    "df['num_chars']=df['text'].apply(len)"
   ]
  },
  {
   "cell_type": "code",
   "execution_count": null,
   "metadata": {},
   "outputs": [],
   "source": [
    "df.head(8)"
   ]
  },
  {
   "cell_type": "markdown",
   "metadata": {},
   "source": [
    "## Fetch number of words"
   ]
  },
  {
   "cell_type": "code",
   "execution_count": null,
   "metadata": {
    "execution": {
     "iopub.execute_input": "2023-06-29T09:20:22.190652Z",
     "iopub.status.busy": "2023-06-29T09:20:22.189148Z",
     "iopub.status.idle": "2023-06-29T09:20:23.392908Z",
     "shell.execute_reply": "2023-06-29T09:20:23.392036Z",
     "shell.execute_reply.started": "2023-06-29T09:20:22.190604Z"
    }
   },
   "outputs": [],
   "source": [
    "df['num_words']=df['text'].apply(lambda x:len(nltk.word_tokenize(x)))"
   ]
  },
  {
   "cell_type": "code",
   "execution_count": null,
   "metadata": {},
   "outputs": [],
   "source": [
    "df.head(8)"
   ]
  },
  {
   "cell_type": "markdown",
   "metadata": {},
   "source": [
    "## Number of sentences"
   ]
  },
  {
   "cell_type": "code",
   "execution_count": null,
   "metadata": {
    "execution": {
     "iopub.execute_input": "2023-06-29T09:20:23.395611Z",
     "iopub.status.busy": "2023-06-29T09:20:23.394753Z",
     "iopub.status.idle": "2023-06-29T09:20:23.732882Z",
     "shell.execute_reply": "2023-06-29T09:20:23.731936Z",
     "shell.execute_reply.started": "2023-06-29T09:20:23.395570Z"
    }
   },
   "outputs": [],
   "source": [
    "df['num_sentence']=df['text'].apply(lambda x:len(nltk.sent_tokenize(x)))"
   ]
  },
  {
   "cell_type": "code",
   "execution_count": null,
   "metadata": {
    "execution": {
     "iopub.execute_input": "2023-06-29T09:20:23.735600Z",
     "iopub.status.busy": "2023-06-29T09:20:23.734740Z",
     "iopub.status.idle": "2023-06-29T09:20:23.748513Z",
     "shell.execute_reply": "2023-06-29T09:20:23.747283Z",
     "shell.execute_reply.started": "2023-06-29T09:20:23.735558Z"
    }
   },
   "outputs": [],
   "source": [
    "df.head()"
   ]
  },
  {
   "cell_type": "markdown",
   "metadata": {},
   "source": [
    "## For ham messages"
   ]
  },
  {
   "cell_type": "code",
   "execution_count": null,
   "metadata": {
    "execution": {
     "iopub.execute_input": "2023-06-29T09:20:23.750162Z",
     "iopub.status.busy": "2023-06-29T09:20:23.749744Z",
     "iopub.status.idle": "2023-06-29T09:20:23.778609Z",
     "shell.execute_reply": "2023-06-29T09:20:23.777633Z",
     "shell.execute_reply.started": "2023-06-29T09:20:23.750132Z"
    }
   },
   "outputs": [],
   "source": [
    "df[['num_chars','num_words','num_sentence']].describe()"
   ]
  },
  {
   "cell_type": "code",
   "execution_count": null,
   "metadata": {
    "execution": {
     "iopub.execute_input": "2023-06-29T09:20:23.780374Z",
     "iopub.status.busy": "2023-06-29T09:20:23.780069Z",
     "iopub.status.idle": "2023-06-29T09:20:23.802038Z",
     "shell.execute_reply": "2023-06-29T09:20:23.801057Z",
     "shell.execute_reply.started": "2023-06-29T09:20:23.780347Z"
    }
   },
   "outputs": [],
   "source": [
    "df[df['target']==0][['num_chars','num_words','num_sentence']].describe()"
   ]
  },
  {
   "cell_type": "markdown",
   "metadata": {},
   "source": [
    "## For spam messages"
   ]
  },
  {
   "cell_type": "code",
   "execution_count": null,
   "metadata": {
    "execution": {
     "iopub.execute_input": "2023-06-29T09:20:23.804178Z",
     "iopub.status.busy": "2023-06-29T09:20:23.803362Z",
     "iopub.status.idle": "2023-06-29T09:20:23.829088Z",
     "shell.execute_reply": "2023-06-29T09:20:23.827660Z",
     "shell.execute_reply.started": "2023-06-29T09:20:23.804148Z"
    }
   },
   "outputs": [],
   "source": [
    "df[df['target']==1][['num_chars','num_words','num_sentence']].describe()"
   ]
  },
  {
   "cell_type": "code",
   "execution_count": null,
   "metadata": {
    "execution": {
     "iopub.execute_input": "2023-06-29T09:20:23.830903Z",
     "iopub.status.busy": "2023-06-29T09:20:23.830470Z",
     "iopub.status.idle": "2023-06-29T09:20:24.772667Z",
     "shell.execute_reply": "2023-06-29T09:20:24.771509Z",
     "shell.execute_reply.started": "2023-06-29T09:20:23.830864Z"
    }
   },
   "outputs": [],
   "source": [
    "plt.figure(figsize=(14,5))\n",
    "sns.histplot(data=df,x='num_chars',hue=\"target\",palette=\"inferno\",kde=True); "
   ]
  },
  {
   "cell_type": "code",
   "execution_count": null,
   "metadata": {
    "execution": {
     "iopub.execute_input": "2023-06-29T09:20:24.775041Z",
     "iopub.status.busy": "2023-06-29T09:20:24.774630Z",
     "iopub.status.idle": "2023-06-29T09:20:25.770881Z",
     "shell.execute_reply": "2023-06-29T09:20:25.769641Z",
     "shell.execute_reply.started": "2023-06-29T09:20:24.775010Z"
    }
   },
   "outputs": [],
   "source": [
    "plt.figure(figsize=(14,5))\n",
    "sns.histplot(data = df,hue='target',x='num_words',palette=\"inferno\", kde=True); "
   ]
  },
  {
   "cell_type": "code",
   "execution_count": null,
   "metadata": {
    "execution": {
     "iopub.execute_input": "2023-06-29T09:20:25.773464Z",
     "iopub.status.busy": "2023-06-29T09:20:25.772667Z",
     "iopub.status.idle": "2023-06-29T09:20:32.713317Z",
     "shell.execute_reply": "2023-06-29T09:20:32.712234Z",
     "shell.execute_reply.started": "2023-06-29T09:20:25.773399Z"
    }
   },
   "outputs": [],
   "source": [
    "plt.figure(figsize=(14,5))\n",
    "sns.pairplot(df,hue='target',palette='inferno');"
   ]
  },
  {
   "cell_type": "code",
   "execution_count": null,
   "metadata": {
    "execution": {
     "iopub.execute_input": "2023-06-29T09:20:32.716491Z",
     "iopub.status.busy": "2023-06-29T09:20:32.715150Z",
     "iopub.status.idle": "2023-06-29T09:20:33.141129Z",
     "shell.execute_reply": "2023-06-29T09:20:33.139853Z",
     "shell.execute_reply.started": "2023-06-29T09:20:32.716443Z"
    }
   },
   "outputs": [],
   "source": [
    "sns.heatmap(df.corr(),annot=True);"
   ]
  },
  {
   "cell_type": "markdown",
   "metadata": {},
   "source": [
    "# NLP Data Preprocessing\n",
    "- Lower case\n",
    "- Tokenization\n",
    "- Removing special characters\n",
    "- Removing stop words and punctuation\n",
    "- Stemming"
   ]
  },
  {
   "cell_type": "code",
   "execution_count": null,
   "metadata": {
    "execution": {
     "iopub.execute_input": "2023-06-29T09:20:33.148579Z",
     "iopub.status.busy": "2023-06-29T09:20:33.148161Z",
     "iopub.status.idle": "2023-06-29T09:20:33.153937Z",
     "shell.execute_reply": "2023-06-29T09:20:33.152783Z",
     "shell.execute_reply.started": "2023-06-29T09:20:33.148550Z"
    }
   },
   "outputs": [],
   "source": [
    "from nltk.stem.porter import PorterStemmer\n",
    "ps=PorterStemmer()\n",
    "from nltk.corpus import stopwords\n",
    "import string"
   ]
  },
  {
   "cell_type": "code",
   "execution_count": null,
   "metadata": {
    "execution": {
     "iopub.execute_input": "2023-06-29T09:20:33.155974Z",
     "iopub.status.busy": "2023-06-29T09:20:33.155493Z",
     "iopub.status.idle": "2023-06-29T09:20:33.169990Z",
     "shell.execute_reply": "2023-06-29T09:20:33.168867Z",
     "shell.execute_reply.started": "2023-06-29T09:20:33.155934Z"
    }
   },
   "outputs": [],
   "source": [
    "def TextTransform(text):\n",
    "    text = text.lower()\n",
    "    text = nltk.word_tokenize(text)\n",
    "    y=[]\n",
    "    for i in text:\n",
    "        if i.isalnum():\n",
    "            y.append(i)\n",
    "    text = y[:]\n",
    "    y.clear()\n",
    "    for i in text:\n",
    "        if i not in stopwords.words('english') and i not in string.punctuation:\n",
    "            y.append(i)\n",
    "    text = y[:]\n",
    "    y.clear()\n",
    "    for i in text:\n",
    "        y.append(ps.stem(i))\n",
    "    return \" \".join(y)"
   ]
  },
  {
   "cell_type": "code",
   "execution_count": null,
   "metadata": {
    "execution": {
     "iopub.execute_input": "2023-06-29T09:20:33.171935Z",
     "iopub.status.busy": "2023-06-29T09:20:33.171231Z",
     "iopub.status.idle": "2023-06-29T09:20:33.188204Z",
     "shell.execute_reply": "2023-06-29T09:20:33.187072Z",
     "shell.execute_reply.started": "2023-06-29T09:20:33.171889Z"
    }
   },
   "outputs": [],
   "source": [
    "import nltk\n",
    "nltk.download('stopwords')\n",
    "stopwords.words(\"english\") "
   ]
  },
  {
   "cell_type": "markdown",
   "metadata": {},
   "source": [
    "### These words  do no give any meaning to the sentence but are used in sentence formation"
   ]
  },
  {
   "cell_type": "code",
   "execution_count": null,
   "metadata": {
    "execution": {
     "iopub.execute_input": "2023-06-29T09:20:33.190118Z",
     "iopub.status.busy": "2023-06-29T09:20:33.189569Z",
     "iopub.status.idle": "2023-06-29T09:20:33.202449Z",
     "shell.execute_reply": "2023-06-29T09:20:33.201174Z",
     "shell.execute_reply.started": "2023-06-29T09:20:33.190087Z"
    }
   },
   "outputs": [],
   "source": [
    "# string.punctuation"
   ]
  },
  {
   "cell_type": "code",
   "execution_count": null,
   "metadata": {
    "execution": {
     "iopub.execute_input": "2023-06-29T09:20:33.204281Z",
     "iopub.status.busy": "2023-06-29T09:20:33.203932Z",
     "iopub.status.idle": "2023-06-29T09:20:33.221477Z",
     "shell.execute_reply": "2023-06-29T09:20:33.220295Z",
     "shell.execute_reply.started": "2023-06-29T09:20:33.204252Z"
    }
   },
   "outputs": [],
   "source": [
    "TextTransform('It is Spamming spammed spam Detection! 20%%')"
   ]
  },
  {
   "cell_type": "code",
   "execution_count": null,
   "metadata": {
    "execution": {
     "iopub.execute_input": "2023-06-29T09:20:33.224018Z",
     "iopub.status.busy": "2023-06-29T09:20:33.222848Z",
     "iopub.status.idle": "2023-06-29T09:20:33.235391Z",
     "shell.execute_reply": "2023-06-29T09:20:33.234079Z",
     "shell.execute_reply.started": "2023-06-29T09:20:33.223982Z"
    }
   },
   "outputs": [],
   "source": [
    "df['text'][0]"
   ]
  },
  {
   "cell_type": "code",
   "execution_count": null,
   "metadata": {
    "execution": {
     "iopub.execute_input": "2023-06-29T09:20:33.238492Z",
     "iopub.status.busy": "2023-06-29T09:20:33.237198Z",
     "iopub.status.idle": "2023-06-29T09:20:45.442489Z",
     "shell.execute_reply": "2023-06-29T09:20:45.441338Z",
     "shell.execute_reply.started": "2023-06-29T09:20:33.238404Z"
    }
   },
   "outputs": [],
   "source": [
    "df['transformed_text'] = df['text'].apply(TextTransform)"
   ]
  },
  {
   "cell_type": "code",
   "execution_count": null,
   "metadata": {
    "execution": {
     "iopub.execute_input": "2023-06-29T09:20:45.444562Z",
     "iopub.status.busy": "2023-06-29T09:20:45.443901Z",
     "iopub.status.idle": "2023-06-29T09:20:45.458566Z",
     "shell.execute_reply": "2023-06-29T09:20:45.457371Z",
     "shell.execute_reply.started": "2023-06-29T09:20:45.444523Z"
    }
   },
   "outputs": [],
   "source": [
    "df.head(20)"
   ]
  },
  {
   "cell_type": "code",
   "execution_count": null,
   "metadata": {
    "execution": {
     "iopub.execute_input": "2023-06-29T09:20:45.460251Z",
     "iopub.status.busy": "2023-06-29T09:20:45.459865Z",
     "iopub.status.idle": "2023-06-29T09:20:45.474032Z",
     "shell.execute_reply": "2023-06-29T09:20:45.473178Z",
     "shell.execute_reply.started": "2023-06-29T09:20:45.460221Z"
    }
   },
   "outputs": [],
   "source": [
    "from wordcloud import WordCloud\n",
    "wc= WordCloud(width=500,height=500, min_font_size = 10, background_color='black')"
   ]
  },
  {
   "cell_type": "code",
   "execution_count": null,
   "metadata": {
    "execution": {
     "iopub.execute_input": "2023-06-29T09:20:45.476212Z",
     "iopub.status.busy": "2023-06-29T09:20:45.475540Z",
     "iopub.status.idle": "2023-06-29T09:20:45.853252Z",
     "shell.execute_reply": "2023-06-29T09:20:45.852166Z",
     "shell.execute_reply.started": "2023-06-29T09:20:45.476172Z"
    }
   },
   "outputs": [],
   "source": [
    "spam_wordcloud = wc.generate(df[df['target']==1]['transformed_text'].str.cat(sep=\" \"))"
   ]
  },
  {
   "cell_type": "code",
   "execution_count": null,
   "metadata": {
    "execution": {
     "iopub.execute_input": "2023-06-29T09:20:45.855585Z",
     "iopub.status.busy": "2023-06-29T09:20:45.855207Z",
     "iopub.status.idle": "2023-06-29T09:20:46.279327Z",
     "shell.execute_reply": "2023-06-29T09:20:46.278185Z",
     "shell.execute_reply.started": "2023-06-29T09:20:45.855550Z"
    }
   },
   "outputs": [],
   "source": [
    "plt.figure(figsize=(14,5))\n",
    "plt.imshow(spam_wordcloud)"
   ]
  },
  {
   "cell_type": "code",
   "execution_count": null,
   "metadata": {
    "execution": {
     "iopub.execute_input": "2023-06-29T09:20:46.281042Z",
     "iopub.status.busy": "2023-06-29T09:20:46.280723Z",
     "iopub.status.idle": "2023-06-29T09:20:47.095771Z",
     "shell.execute_reply": "2023-06-29T09:20:47.094785Z",
     "shell.execute_reply.started": "2023-06-29T09:20:46.281015Z"
    }
   },
   "outputs": [],
   "source": [
    "ham_wordcloud = wc.generate(df[df['target']==0]['transformed_text'].str.cat(sep=\" \"))"
   ]
  },
  {
   "cell_type": "code",
   "execution_count": null,
   "metadata": {
    "execution": {
     "iopub.execute_input": "2023-06-29T09:20:47.097482Z",
     "iopub.status.busy": "2023-06-29T09:20:47.097151Z",
     "iopub.status.idle": "2023-06-29T09:20:47.567550Z",
     "shell.execute_reply": "2023-06-29T09:20:47.566514Z",
     "shell.execute_reply.started": "2023-06-29T09:20:47.097453Z"
    }
   },
   "outputs": [],
   "source": [
    "plt.figure(figsize=(14,5))\n",
    "plt.imshow(ham_wordcloud)"
   ]
  },
  {
   "cell_type": "markdown",
   "metadata": {},
   "source": [
    "### Top 30 spam messages"
   ]
  },
  {
   "cell_type": "code",
   "execution_count": null,
   "metadata": {
    "execution": {
     "iopub.execute_input": "2023-06-29T09:20:47.570256Z",
     "iopub.status.busy": "2023-06-29T09:20:47.569230Z",
     "iopub.status.idle": "2023-06-29T09:20:47.580057Z",
     "shell.execute_reply": "2023-06-29T09:20:47.578839Z",
     "shell.execute_reply.started": "2023-06-29T09:20:47.570220Z"
    }
   },
   "outputs": [],
   "source": [
    "spam_corpus = []\n",
    "for msg in df[df['target'] == 1]['transformed_text'].tolist():\n",
    "    for word in msg.split():\n",
    "        spam_corpus.append(word)"
   ]
  },
  {
   "cell_type": "code",
   "execution_count": null,
   "metadata": {
    "execution": {
     "iopub.execute_input": "2023-06-29T09:20:47.582585Z",
     "iopub.status.busy": "2023-06-29T09:20:47.581849Z",
     "iopub.status.idle": "2023-06-29T09:20:47.594975Z",
     "shell.execute_reply": "2023-06-29T09:20:47.594214Z",
     "shell.execute_reply.started": "2023-06-29T09:20:47.582553Z"
    }
   },
   "outputs": [],
   "source": [
    "len(spam_corpus)"
   ]
  },
  {
   "cell_type": "code",
   "execution_count": null,
   "metadata": {
    "execution": {
     "iopub.execute_input": "2023-06-29T09:20:47.596643Z",
     "iopub.status.busy": "2023-06-29T09:20:47.596294Z",
     "iopub.status.idle": "2023-06-29T09:20:47.619707Z",
     "shell.execute_reply": "2023-06-29T09:20:47.618354Z",
     "shell.execute_reply.started": "2023-06-29T09:20:47.596614Z"
    }
   },
   "outputs": [],
   "source": [
    "df.info()"
   ]
  },
  {
   "cell_type": "code",
   "execution_count": null,
   "metadata": {
    "execution": {
     "iopub.execute_input": "2023-06-29T09:20:47.621738Z",
     "iopub.status.busy": "2023-06-29T09:20:47.621123Z",
     "iopub.status.idle": "2023-06-29T09:20:48.258146Z",
     "shell.execute_reply": "2023-06-29T09:20:48.257003Z",
     "shell.execute_reply.started": "2023-06-29T09:20:47.621695Z"
    }
   },
   "outputs": [],
   "source": [
    "from collections import Counter\n",
    "most_common_messages = pd.DataFrame(Counter(spam_corpus).most_common(30))\n",
    "most_common_messages.columns = [\"words\",\"freq\"]\n",
    "plt.figure(figsize=(14,5))\n",
    "sns.barplot(data = most_common_messages,y=\"words\",x=\"freq\", palette = 'inferno');\n",
    "plt.title(\"Most Common Spam Messages\")\n",
    "# plt.xticks(rotations='vertical')"
   ]
  },
  {
   "cell_type": "markdown",
   "metadata": {},
   "source": [
    "### Top 30 ham messages"
   ]
  },
  {
   "cell_type": "code",
   "execution_count": null,
   "metadata": {
    "execution": {
     "iopub.execute_input": "2023-06-29T09:20:48.260536Z",
     "iopub.status.busy": "2023-06-29T09:20:48.259734Z",
     "iopub.status.idle": "2023-06-29T09:20:48.276330Z",
     "shell.execute_reply": "2023-06-29T09:20:48.275149Z",
     "shell.execute_reply.started": "2023-06-29T09:20:48.260493Z"
    }
   },
   "outputs": [],
   "source": [
    "ham_corpus = []\n",
    "for msg in df[df['target'] == 0]['transformed_text'].tolist():\n",
    "    for word in msg.split():\n",
    "        ham_corpus.append(word)"
   ]
  },
  {
   "cell_type": "code",
   "execution_count": null,
   "metadata": {
    "execution": {
     "iopub.execute_input": "2023-06-29T09:20:48.278173Z",
     "iopub.status.busy": "2023-06-29T09:20:48.277800Z",
     "iopub.status.idle": "2023-06-29T09:20:48.287235Z",
     "shell.execute_reply": "2023-06-29T09:20:48.286310Z",
     "shell.execute_reply.started": "2023-06-29T09:20:48.278143Z"
    }
   },
   "outputs": [],
   "source": [
    "len(ham_corpus)"
   ]
  },
  {
   "cell_type": "code",
   "execution_count": null,
   "metadata": {
    "execution": {
     "iopub.execute_input": "2023-06-29T09:20:48.289579Z",
     "iopub.status.busy": "2023-06-29T09:20:48.288849Z",
     "iopub.status.idle": "2023-06-29T09:20:48.895981Z",
     "shell.execute_reply": "2023-06-29T09:20:48.894848Z",
     "shell.execute_reply.started": "2023-06-29T09:20:48.289537Z"
    }
   },
   "outputs": [],
   "source": [
    "from collections import Counter\n",
    "most_common_ham = pd.DataFrame(Counter(ham_corpus).most_common(30))\n",
    "most_common_ham.columns = [\"Words\",\"Frequency\"]\n",
    "plt.figure(figsize=(14,5))\n",
    "sns.barplot(data = most_common_ham,y=\"Words\",x=\"Frequency\", palette = 'inferno');\n",
    "plt.title(\"Most Common Ham Messages\")\n",
    "# plt.xticks(rotations='vertical')"
   ]
  },
  {
   "cell_type": "markdown",
   "metadata": {},
   "source": [
    "# Model Building"
   ]
  },
  {
   "cell_type": "markdown",
   "metadata": {},
   "source": [
    "### Text Vectorization using Bag of Words"
   ]
  },
  {
   "cell_type": "code",
   "execution_count": null,
   "metadata": {
    "execution": {
     "iopub.execute_input": "2023-06-29T09:40:07.569810Z",
     "iopub.status.busy": "2023-06-29T09:40:07.569289Z",
     "iopub.status.idle": "2023-06-29T09:40:07.577198Z",
     "shell.execute_reply": "2023-06-29T09:40:07.575353Z",
     "shell.execute_reply.started": "2023-06-29T09:40:07.569776Z"
    }
   },
   "outputs": [],
   "source": [
    "from sklearn.feature_extraction.text import CountVectorizer,TfidfVectorizer\n",
    "cv = CountVectorizer()\n",
    "tfidf = TfidfVectorizer(max_features=3000)"
   ]
  },
  {
   "cell_type": "code",
   "execution_count": null,
   "metadata": {
    "execution": {
     "iopub.execute_input": "2023-06-29T09:40:16.658263Z",
     "iopub.status.busy": "2023-06-29T09:40:16.657475Z",
     "iopub.status.idle": "2023-06-29T09:40:17.206978Z",
     "shell.execute_reply": "2023-06-29T09:40:17.205754Z",
     "shell.execute_reply.started": "2023-06-29T09:40:16.658229Z"
    }
   },
   "outputs": [],
   "source": [
    "X = tfidf.fit_transform(df['transformed_text']).toarray()"
   ]
  },
  {
   "cell_type": "code",
   "execution_count": null,
   "metadata": {
    "execution": {
     "iopub.execute_input": "2023-06-29T09:20:49.070469Z",
     "iopub.status.busy": "2023-06-29T09:20:49.070029Z",
     "iopub.status.idle": "2023-06-29T09:20:49.077644Z",
     "shell.execute_reply": "2023-06-29T09:20:49.076485Z",
     "shell.execute_reply.started": "2023-06-29T09:20:49.070438Z"
    }
   },
   "outputs": [],
   "source": [
    "X.shape"
   ]
  },
  {
   "cell_type": "code",
   "execution_count": null,
   "metadata": {
    "execution": {
     "iopub.execute_input": "2023-06-29T09:20:49.080005Z",
     "iopub.status.busy": "2023-06-29T09:20:49.079477Z",
     "iopub.status.idle": "2023-06-29T09:20:49.089838Z",
     "shell.execute_reply": "2023-06-29T09:20:49.088834Z",
     "shell.execute_reply.started": "2023-06-29T09:20:49.079954Z"
    }
   },
   "outputs": [],
   "source": [
    "y = df['target'].values\n",
    "y"
   ]
  },
  {
   "cell_type": "code",
   "execution_count": null,
   "metadata": {
    "execution": {
     "iopub.execute_input": "2023-06-29T09:25:22.386949Z",
     "iopub.status.busy": "2023-06-29T09:25:22.386463Z",
     "iopub.status.idle": "2023-06-29T09:25:22.523662Z",
     "shell.execute_reply": "2023-06-29T09:25:22.522267Z",
     "shell.execute_reply.started": "2023-06-29T09:25:22.386915Z"
    }
   },
   "outputs": [],
   "source": [
    "from sklearn.model_selection import train_test_split\n",
    "X_train,X_test,y_train,y_test = train_test_split(X,y,test_size=0.2,random_state=2)"
   ]
  },
  {
   "cell_type": "code",
   "execution_count": null,
   "metadata": {
    "execution": {
     "iopub.execute_input": "2023-06-29T09:27:25.397269Z",
     "iopub.status.busy": "2023-06-29T09:27:25.396844Z",
     "iopub.status.idle": "2023-06-29T09:27:25.402205Z",
     "shell.execute_reply": "2023-06-29T09:27:25.401394Z",
     "shell.execute_reply.started": "2023-06-29T09:27:25.397235Z"
    }
   },
   "outputs": [],
   "source": [
    "from sklearn.naive_bayes import GaussianNB, MultinomialNB, BernoulliNB\n",
    "from sklearn.metrics import accuracy_score, confusion_matrix, precision_score, classification_report"
   ]
  },
  {
   "cell_type": "code",
   "execution_count": null,
   "metadata": {
    "execution": {
     "iopub.execute_input": "2023-06-29T09:28:40.755868Z",
     "iopub.status.busy": "2023-06-29T09:28:40.755380Z",
     "iopub.status.idle": "2023-06-29T09:28:41.545854Z",
     "shell.execute_reply": "2023-06-29T09:28:41.544412Z",
     "shell.execute_reply.started": "2023-06-29T09:28:40.755835Z"
    }
   },
   "outputs": [],
   "source": [
    "gnb_model = GaussianNB()\n",
    "gnb_model.fit(X_train,y_train)\n",
    "y_predict = gnb_model.predict(X_test)\n",
    "print(\"=\"*100)\n",
    "print(\"Accuracy Score:\",accuracy_score(y_test,y_predict))\n",
    "print(\"Confusion Matrix:\\n\",confusion_matrix(y_test,y_predict))\n",
    "print(\"\\n\",classification_report(y_test,y_predict))"
   ]
  },
  {
   "cell_type": "code",
   "execution_count": null,
   "metadata": {
    "execution": {
     "iopub.execute_input": "2023-06-29T09:30:31.354851Z",
     "iopub.status.busy": "2023-06-29T09:30:31.354284Z",
     "iopub.status.idle": "2023-06-29T09:30:31.858592Z",
     "shell.execute_reply": "2023-06-29T09:30:31.857409Z",
     "shell.execute_reply.started": "2023-06-29T09:30:31.354814Z"
    }
   },
   "outputs": [],
   "source": [
    "mnb_model = MultinomialNB()\n",
    "mnb_model.fit(X_train,y_train)\n",
    "y_predict = mnb_model.predict(X_test)\n",
    "print(\"=\"*100)\n",
    "print(\"Accuracy Score:\",accuracy_score(y_test,y_predict))\n",
    "print(\"Confusion Matrix:\\n\",confusion_matrix(y_test,y_predict))\n",
    "print(\"\\n\",classification_report(y_test,y_predict))"
   ]
  },
  {
   "cell_type": "code",
   "execution_count": null,
   "metadata": {
    "execution": {
     "iopub.execute_input": "2023-06-29T09:31:02.508998Z",
     "iopub.status.busy": "2023-06-29T09:31:02.508582Z",
     "iopub.status.idle": "2023-06-29T09:31:03.176862Z",
     "shell.execute_reply": "2023-06-29T09:31:03.173660Z",
     "shell.execute_reply.started": "2023-06-29T09:31:02.508965Z"
    }
   },
   "outputs": [],
   "source": [
    "bnb_model = BernoulliNB()\n",
    "bnb_model.fit(X_train,y_train)\n",
    "y_predict = bnb_model.predict(X_test)\n",
    "print(\"=\"*100)\n",
    "print(\"Accuracy Score:\",accuracy_score(y_test,y_predict))\n",
    "print(\"Confusion Matrix:\\n\",confusion_matrix(y_test,y_predict))\n",
    "print(\"\\n\",classification_report(y_test,y_predict))"
   ]
  },
  {
   "cell_type": "code",
   "execution_count": null,
   "metadata": {
    "execution": {
     "iopub.execute_input": "2023-06-29T09:36:00.657849Z",
     "iopub.status.busy": "2023-06-29T09:36:00.657322Z",
     "iopub.status.idle": "2023-06-29T09:36:01.147882Z",
     "shell.execute_reply": "2023-06-29T09:36:01.146750Z",
     "shell.execute_reply.started": "2023-06-29T09:36:00.657812Z"
    }
   },
   "outputs": [],
   "source": [
    "from sklearn.linear_model import LogisticRegression\n",
    "from sklearn.svm import SVC\n",
    "from sklearn.naive_bayes import MultinomialNB\n",
    "from sklearn.tree import DecisionTreeClassifier\n",
    "from sklearn.neighbors import KNeighborsClassifier\n",
    "from sklearn.ensemble import RandomForestClassifier\n",
    "from sklearn.ensemble import AdaBoostClassifier\n",
    "from sklearn.ensemble import BaggingClassifier\n",
    "from sklearn.ensemble import ExtraTreesClassifier\n",
    "from sklearn.ensemble import GradientBoostingClassifier\n",
    "from xgboost import XGBClassifier"
   ]
  },
  {
   "cell_type": "code",
   "execution_count": null,
   "metadata": {
    "execution": {
     "iopub.execute_input": "2023-06-29T09:41:02.995039Z",
     "iopub.status.busy": "2023-06-29T09:41:02.994618Z",
     "iopub.status.idle": "2023-06-29T09:41:03.003343Z",
     "shell.execute_reply": "2023-06-29T09:41:03.002105Z",
     "shell.execute_reply.started": "2023-06-29T09:41:02.995006Z"
    }
   },
   "outputs": [],
   "source": [
    "svc = SVC(kernel='sigmoid', gamma=1.0)\n",
    "knc = KNeighborsClassifier()\n",
    "mnb = MultinomialNB()\n",
    "dtc = DecisionTreeClassifier(max_depth=5)\n",
    "lrc = LogisticRegression(solver='liblinear', penalty='l1')\n",
    "rfc = RandomForestClassifier(n_estimators=50, random_state=2)\n",
    "abc = AdaBoostClassifier(n_estimators=50, random_state=2)\n",
    "bc = BaggingClassifier(n_estimators=50, random_state=2)\n",
    "etc = ExtraTreesClassifier(n_estimators=50, random_state=2)\n",
    "gbdt = GradientBoostingClassifier(n_estimators=50,random_state=2)\n",
    "xgb = XGBClassifier(n_estimators=50,random_state=2)"
   ]
  },
  {
   "cell_type": "code",
   "execution_count": null,
   "metadata": {
    "execution": {
     "iopub.execute_input": "2023-06-29T09:41:12.494815Z",
     "iopub.status.busy": "2023-06-29T09:41:12.493747Z",
     "iopub.status.idle": "2023-06-29T09:41:12.501211Z",
     "shell.execute_reply": "2023-06-29T09:41:12.500048Z",
     "shell.execute_reply.started": "2023-06-29T09:41:12.494771Z"
    }
   },
   "outputs": [],
   "source": [
    "clfs = {\n",
    "    'SVC' : svc,\n",
    "    'KN' : knc, \n",
    "    'NB': mnb, \n",
    "    'DT': dtc, \n",
    "    'LR': lrc, \n",
    "    'RF': rfc, \n",
    "    'AdaBoost': abc, \n",
    "    'BgC': bc, \n",
    "    'ETC': etc,\n",
    "    'GBDT':gbdt,\n",
    "    'xgb':xgb\n",
    "}"
   ]
  },
  {
   "cell_type": "code",
   "execution_count": null,
   "metadata": {
    "execution": {
     "iopub.execute_input": "2023-06-29T09:41:21.979552Z",
     "iopub.status.busy": "2023-06-29T09:41:21.979056Z",
     "iopub.status.idle": "2023-06-29T09:41:21.986892Z",
     "shell.execute_reply": "2023-06-29T09:41:21.985233Z",
     "shell.execute_reply.started": "2023-06-29T09:41:21.979516Z"
    }
   },
   "outputs": [],
   "source": [
    "def train_classifier(clf,X_train,y_train,X_test,y_test):\n",
    "    clf.fit(X_train,y_train)\n",
    "    y_pred = clf.predict(X_test)\n",
    "    accuracy = accuracy_score(y_test,y_pred)\n",
    "    precision = precision_score(y_test,y_pred)\n",
    "    \n",
    "    return accuracy,precision"
   ]
  },
  {
   "cell_type": "code",
   "execution_count": null,
   "metadata": {
    "execution": {
     "iopub.execute_input": "2023-06-29T09:41:34.968653Z",
     "iopub.status.busy": "2023-06-29T09:41:34.968125Z",
     "iopub.status.idle": "2023-06-29T09:41:45.827017Z",
     "shell.execute_reply": "2023-06-29T09:41:45.825761Z",
     "shell.execute_reply.started": "2023-06-29T09:41:34.968616Z"
    }
   },
   "outputs": [],
   "source": [
    "train_classifier(svc,X_train,y_train,X_test,y_test)"
   ]
  },
  {
   "cell_type": "code",
   "execution_count": null,
   "metadata": {
    "execution": {
     "iopub.execute_input": "2023-06-29T09:54:27.022306Z",
     "iopub.status.busy": "2023-06-29T09:54:27.021629Z",
     "iopub.status.idle": "2023-06-29T10:00:38.634010Z",
     "shell.execute_reply": "2023-06-29T10:00:38.633100Z",
     "shell.execute_reply.started": "2023-06-29T09:54:27.022264Z"
    }
   },
   "outputs": [],
   "source": [
    "accuracy_scores = []\n",
    "precision_scores = []\n",
    "\n",
    "for name,clf in clfs.items():\n",
    "    \n",
    "    current_accuracy,current_precision = train_classifier(clf, X_train,y_train,X_test,y_test)\n",
    "    \n",
    "    print(\"For \",name)\n",
    "    print(\"Accuracy - \",current_accuracy)\n",
    "    print(\"Precision - \",current_precision)\n",
    "    \n",
    "    accuracy_scores.append(current_accuracy)\n",
    "    precision_scores.append(current_precision)"
   ]
  },
  {
   "cell_type": "code",
   "execution_count": null,
   "metadata": {
    "execution": {
     "iopub.execute_input": "2023-06-29T10:04:13.115583Z",
     "iopub.status.busy": "2023-06-29T10:04:13.115105Z",
     "iopub.status.idle": "2023-06-29T10:04:13.131821Z",
     "shell.execute_reply": "2023-06-29T10:04:13.130585Z",
     "shell.execute_reply.started": "2023-06-29T10:04:13.115549Z"
    }
   },
   "outputs": [],
   "source": [
    "performance_df = pd.DataFrame({'Algorithm':clfs.keys(),'Accuracy':accuracy_scores,'Precision':precision_scores}).sort_values('Precision',ascending=False)\n",
    "performance_df"
   ]
  },
  {
   "cell_type": "code",
   "execution_count": null,
   "metadata": {
    "execution": {
     "iopub.execute_input": "2023-06-29T10:04:15.873771Z",
     "iopub.status.busy": "2023-06-29T10:04:15.873323Z",
     "iopub.status.idle": "2023-06-29T10:04:15.889310Z",
     "shell.execute_reply": "2023-06-29T10:04:15.888130Z",
     "shell.execute_reply.started": "2023-06-29T10:04:15.873740Z"
    }
   },
   "outputs": [],
   "source": [
    "performance_df1 = pd.melt(performance_df, id_vars = \"Algorithm\")\n",
    "performance_df1"
   ]
  },
  {
   "cell_type": "code",
   "execution_count": null,
   "metadata": {
    "execution": {
     "iopub.execute_input": "2023-06-29T10:04:29.383267Z",
     "iopub.status.busy": "2023-06-29T10:04:29.382857Z",
     "iopub.status.idle": "2023-06-29T10:04:30.048023Z",
     "shell.execute_reply": "2023-06-29T10:04:30.046611Z",
     "shell.execute_reply.started": "2023-06-29T10:04:29.383236Z"
    }
   },
   "outputs": [],
   "source": [
    "sns.catplot(x = 'Algorithm', y='value', \n",
    "               hue = 'variable',data=performance_df1, kind='bar',height=5)\n",
    "plt.ylim(0.5,1.0)\n",
    "plt.xticks(rotation='vertical')\n",
    "plt.show()"
   ]
  },
  {
   "cell_type": "code",
   "execution_count": null,
   "metadata": {
    "execution": {
     "iopub.execute_input": "2023-06-29T10:04:43.110182Z",
     "iopub.status.busy": "2023-06-29T10:04:43.109732Z",
     "iopub.status.idle": "2023-06-29T10:04:43.154178Z",
     "shell.execute_reply": "2023-06-29T10:04:43.152766Z",
     "shell.execute_reply.started": "2023-06-29T10:04:43.110152Z"
    }
   },
   "outputs": [],
   "source": [
    "temp_df = pd.DataFrame({'Algorithm':clfs.keys(),'Accuracy_max_ft_3000':accuracy_scores,'Precision_max_ft_3000':precision_scores}).sort_values('Precision_max_ft_3000',ascending=False)\n",
    "temp_df = pd.DataFrame({'Algorithm':clfs.keys(),'Accuracy_scaling':accuracy_scores,'Precision_scaling':precision_scores}).sort_values('Precision_scaling',ascending=False)\n",
    "new_df = performance_df.merge(temp_df,on='Algorithm')\n",
    "new_df_scaled = new_df.merge(temp_df,on='Algorithm')\n",
    "temp_df = pd.DataFrame({'Algorithm':clfs.keys(),'Accuracy_num_chars':accuracy_scores,'Precision_num_chars':precision_scores}).sort_values('Precision_num_chars',ascending=False)\n",
    "new_df_scaled.merge(temp_df,on='Algorithm')"
   ]
  },
  {
   "cell_type": "markdown",
   "metadata": {},
   "source": [
    "## Voting Classifier"
   ]
  },
  {
   "cell_type": "code",
   "execution_count": null,
   "metadata": {
    "execution": {
     "iopub.execute_input": "2023-06-29T10:47:14.798854Z",
     "iopub.status.busy": "2023-06-29T10:47:14.798346Z",
     "iopub.status.idle": "2023-06-29T10:48:27.794248Z",
     "shell.execute_reply": "2023-06-29T10:48:27.793073Z",
     "shell.execute_reply.started": "2023-06-29T10:47:14.798821Z"
    }
   },
   "outputs": [],
   "source": [
    "svc = SVC(kernel='sigmoid', gamma=1.0,probability=True)\n",
    "mnb = MultinomialNB()\n",
    "etc = ExtraTreesClassifier(n_estimators=50, random_state=2)\n",
    "\n",
    "from sklearn.ensemble import VotingClassifier\n",
    "voting = VotingClassifier(estimators=[('svm', svc), ('nb', mnb), ('et', etc)],voting='soft')\n",
    "voting.fit(X_train,y_train)\n",
    "mnb.fit(X_train,y_train)"
   ]
  },
  {
   "cell_type": "code",
   "execution_count": null,
   "metadata": {
    "execution": {
     "iopub.execute_input": "2023-06-29T10:48:27.796613Z",
     "iopub.status.busy": "2023-06-29T10:48:27.796236Z",
     "iopub.status.idle": "2023-06-29T10:48:29.550690Z",
     "shell.execute_reply": "2023-06-29T10:48:29.549533Z",
     "shell.execute_reply.started": "2023-06-29T10:48:27.796582Z"
    }
   },
   "outputs": [],
   "source": [
    "y_pred = voting.predict(X_test)\n",
    "print(\"Accuracy\",accuracy_score(y_test,y_pred))\n",
    "print(\"Precision\",precision_score(y_test,y_pred))"
   ]
  },
  {
   "cell_type": "markdown",
   "metadata": {},
   "source": [
    "## Applying Stacking"
   ]
  },
  {
   "cell_type": "code",
   "execution_count": null,
   "metadata": {
    "execution": {
     "iopub.execute_input": "2023-06-29T10:48:31.236739Z",
     "iopub.status.busy": "2023-06-29T10:48:31.236241Z",
     "iopub.status.idle": "2023-06-29T10:53:53.483077Z",
     "shell.execute_reply": "2023-06-29T10:53:53.481662Z",
     "shell.execute_reply.started": "2023-06-29T10:48:31.236706Z"
    }
   },
   "outputs": [],
   "source": [
    "estimators=[('svm', svc), ('nb', mnb), ('et', etc)]\n",
    "final_estimator=RandomForestClassifier()\n",
    "from sklearn.ensemble import StackingClassifier\n",
    "clf = StackingClassifier(estimators=estimators, final_estimator=final_estimator)\n",
    "clf.fit(X_train,y_train)\n",
    "y_pred = clf.predict(X_test)\n",
    "print(\"Accuracy\",accuracy_score(y_test,y_pred))\n",
    "print(\"Precision\",precision_score(y_test,y_pred))"
   ]
  },
  {
   "cell_type": "code",
   "execution_count": null,
   "metadata": {
    "execution": {
     "iopub.execute_input": "2023-06-29T10:53:53.504285Z",
     "iopub.status.busy": "2023-06-29T10:53:53.503937Z",
     "iopub.status.idle": "2023-06-29T10:53:53.522219Z",
     "shell.execute_reply": "2023-06-29T10:53:53.520884Z",
     "shell.execute_reply.started": "2023-06-29T10:53:53.504257Z"
    }
   },
   "outputs": [],
   "source": [
    "import pickle\n",
    "pickle.dump(tfidf,open('vectorizer.pkl','wb'))\n",
    "pickle.dump(mnb,open('model.pkl','wb'))"
   ]
  }
 ],
 "metadata": {
  "kernelspec": {
   "display_name": "Python 3 (ipykernel)",
   "language": "python",
   "name": "python3"
  },
  "language_info": {
   "codemirror_mode": {
    "name": "ipython",
    "version": 3
   },
   "file_extension": ".py",
   "mimetype": "text/x-python",
   "name": "python",
   "nbconvert_exporter": "python",
   "pygments_lexer": "ipython3",
   "version": "3.11.5"
  }
 },
 "nbformat": 4,
 "nbformat_minor": 4
}
